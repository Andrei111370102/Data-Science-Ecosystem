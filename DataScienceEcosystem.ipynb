{
 "cells": [
  {
   "cell_type": "markdown",
   "id": "13aa1b9b",
   "metadata": {},
   "source": [
    "**Exercise 1: Create a Jupyter Notebook**\n",
    "<br>Create a new Jupyter notebook called **DataScienceEcosystem.ipynb**"
   ]
  },
  {
   "cell_type": "markdown",
   "id": "85d0f21d",
   "metadata": {},
   "source": [
    "**Exercise 2: Create markdown cell with title of the notebook**\n",
    "<br>Create a markdown cell with the title Data Science Tools and Ecosystem using H1 style heading."
   ]
  },
  {
   "cell_type": "markdown",
   "id": "dce6dfae",
   "metadata": {},
   "source": [
    "# Data Science Tools and Ecosystem"
   ]
  },
  {
   "cell_type": "markdown",
   "id": "c8a5171c",
   "metadata": {},
   "source": [
    "**Exercise 3 - Create a markdown cell for an introduction**\n",
    "<br>Write an introductory sentence about the notebook such as the follows:\n",
    "<br>*In this notebook, Data Science Tools and Ecosystem are summarized.*"
   ]
  },
  {
   "cell_type": "markdown",
   "id": "18e43f1f",
   "metadata": {},
   "source": [
    "In this notebook we'll see the different Data Science Tools and Ecosystems summarized."
   ]
  },
  {
   "cell_type": "markdown",
   "id": "8835a99c",
   "metadata": {},
   "source": [
    "**Exercise 10 - Insert a markdown cell to list Objectives**\n",
    "Below the introduction cell created in Exercise 3, insert a new markdown cell to list the objectives that this notebook covered (i.e. some of the key takeaways from the course). In this new cell start with an introductory line titled: \n",
    "<br>Objectives: in bold font. Then using an unordered list (bullets) indicate 3 to 5 items covered in this notebook, such as List popular languages for Data Science."
   ]
  },
  {
   "cell_type": "markdown",
   "id": "4f775a00",
   "metadata": {},
   "source": [
    "**Objectives:**\n",
    "- List popular languages for Data Science\n",
    "- List popular libraries for Data Science\n",
    "- List development environment tools for Data Science in a table\n",
    "- Evaluate arithmetic expressions in Python\n",
    "- Show what I have learned"
   ]
  },
  {
   "cell_type": "markdown",
   "id": "2f87590c",
   "metadata": {},
   "source": [
    "**Exercise 4 - Create a markdown cell to list data science languages**\n",
    "<br>Start the cell with an overview line such as:\n",
    "<br>*Some of the popular languages that Data Scientists use are:*"
   ]
  },
  {
   "cell_type": "markdown",
   "id": "0344d10a",
   "metadata": {},
   "source": [
    "Some of the popular languages that Data Scientists use are:\n",
    "- Python\n",
    "- R\n",
    "- SQL\n",
    "- Scala\n",
    "- Java\n",
    "- C++\n",
    "- Julia"
   ]
  },
  {
   "cell_type": "markdown",
   "id": "c140b8b6",
   "metadata": {},
   "source": [
    "**Exercise 5 - Create a markdown cell to list data science libraries**\n",
    "<br>Add an overview line to the cell like:\n",
    "<br>*Some of the commonly used libraries used by Data Scientists include:*"
   ]
  },
  {
   "cell_type": "markdown",
   "id": "79158f3b",
   "metadata": {},
   "source": [
    "Some of the commonly used libraries used by Data Scientists include:\n",
    "- Pandas\n",
    "- NumPy\n",
    "- Matplotlib\n",
    "- Seaborn\n",
    "- ggplot"
   ]
  },
  {
   "cell_type": "markdown",
   "id": "35850242",
   "metadata": {},
   "source": [
    "**Exercise 6 - Create a markdown cell with a table of Data Science tools**\n",
    "<br>Create a single column table in this cell with the first row containing the header Data Science Tools. The subsequent three rows in the table should indicate three development environment open source tools used in data science."
   ]
  },
  {
   "cell_type": "markdown",
   "id": "0873b64b",
   "metadata": {},
   "source": [
    "|Data Science Tools|\n",
    "|------------------|\n",
    "|Jupyter|\n",
    "|Apache Zeppelin|\n",
    "|R Studio|\n",
    "|Spyder|"
   ]
  },
  {
   "cell_type": "markdown",
   "id": "6e86f713",
   "metadata": {},
   "source": [
    "**Exercise 7 - Create a markdown cell introducing arithmetic expression examples**\n",
    "<br>Add a line in this cell with H3 style heading with text like:\n",
    "<br>*Below are a few examples of evaluating arithmetic expressions in Python.*"
   ]
  },
  {
   "cell_type": "markdown",
   "id": "0bec1f5c",
   "metadata": {},
   "source": [
    "### Below are a few examples of evaluating arithmetic expressions in Python"
   ]
  },
  {
   "cell_type": "markdown",
   "id": "5376337b",
   "metadata": {},
   "source": [
    "**Exercise 8 - Create a code cell to multiply and add numbers**\n",
    "<br>In this code cell evaluate the expression (3*4)+5.\n",
    "<br>Insert a comment line before the expression to explain the operation e.g. *This a simple arithmetic expression to mutiply then add integers.*\n",
    "<br>Then execute the cell to ensure the expression returns the expected output of 17."
   ]
  },
  {
   "cell_type": "markdown",
   "id": "66cc20bd",
   "metadata": {},
   "source": [
    "This is a simple arithmetic expression to multiply then add integers."
   ]
  },
  {
   "cell_type": "code",
   "execution_count": 5,
   "id": "2995e6d7",
   "metadata": {},
   "outputs": [
    {
     "data": {
      "text/plain": [
       "17"
      ]
     },
     "execution_count": 5,
     "metadata": {},
     "output_type": "execute_result"
    }
   ],
   "source": [
    "(3*4)+5"
   ]
  },
  {
   "cell_type": "markdown",
   "id": "c6a7188e",
   "metadata": {},
   "source": [
    "**Exercise 9 - Create a code cell to convert minutes to hours**\n",
    "<br>In this code cell write an expression that converts 200 minutes into hours.\n",
    "<br>Insert a comment line before the expression to explain the operation e.g. *This will convert 200 minutes to hours by diving by 60.*\n",
    "<br>Run the cell to evaluate the expression."
   ]
  },
  {
   "cell_type": "markdown",
   "id": "8089566f",
   "metadata": {},
   "source": [
    "This will convert 200 minutes to hours by dividing by 60."
   ]
  },
  {
   "cell_type": "code",
   "execution_count": 8,
   "id": "ee743bac",
   "metadata": {},
   "outputs": [
    {
     "name": "stdout",
     "output_type": "stream",
     "text": [
      "3.33 hours\n"
     ]
    }
   ],
   "source": [
    "hours = 200/60\n",
    "answer = round(hours, 2)\n",
    "print(f\"{answer} hours\")"
   ]
  },
  {
   "cell_type": "markdown",
   "id": "f6fa5f8b",
   "metadata": {},
   "source": [
    "**Exercise 11 - Create a markdown cell to indicate the Author's name**\n",
    "<br>In this markdown cell markdown cell include the following text Author in H2 style heading. Include your name as regular text below the word Author.\n",
    "## Author\n",
    "Andrei Ilie Tolos"
   ]
  },
  {
   "cell_type": "markdown",
   "id": "447702e3",
   "metadata": {},
   "source": [
    "**Exercise 12 - Share your notebook through GitHub**\n",
    "<br>Upload your notebook to a public respository on GitHub."
   ]
  }
 ],
 "metadata": {
  "kernelspec": {
   "display_name": "Python 3 (ipykernel)",
   "language": "python",
   "name": "python3"
  },
  "language_info": {
   "codemirror_mode": {
    "name": "ipython",
    "version": 3
   },
   "file_extension": ".py",
   "mimetype": "text/x-python",
   "name": "python",
   "nbconvert_exporter": "python",
   "pygments_lexer": "ipython3",
   "version": "3.10.9"
  }
 },
 "nbformat": 4,
 "nbformat_minor": 5
}
